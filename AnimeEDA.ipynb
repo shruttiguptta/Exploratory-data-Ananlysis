{
  "nbformat": 4,
  "nbformat_minor": 0,
  "metadata": {
    "colab": {
      "name": "AnimeEDA.ipynb",
      "provenance": [],
      "authorship_tag": "ABX9TyNaUEMsekD5S2CWleF6mYwn",
      "include_colab_link": true
    },
    "kernelspec": {
      "name": "python3",
      "display_name": "Python 3"
    },
    "language_info": {
      "name": "python"
    }
  },
  "cells": [
    {
      "cell_type": "markdown",
      "metadata": {
        "id": "view-in-github",
        "colab_type": "text"
      },
      "source": [
        "<a href=\"https://colab.research.google.com/github/shruttiguptta/Exploratory-data-Ananlysis/blob/main/AnimeEDA.ipynb\" target=\"_parent\"><img src=\"https://colab.research.google.com/assets/colab-badge.svg\" alt=\"Open In Colab\"/></a>"
      ]
    },
    {
      "cell_type": "code",
      "execution_count": 3,
      "metadata": {
        "id": "iCi7Dm-v8sbE"
      },
      "outputs": [],
      "source": [
        "import pandas as pd\n",
        "import seaborn as sns\n",
        "import matplotlib.pyplot as plt"
      ]
    },
    {
      "cell_type": "code",
      "source": [
        "df = pd.read_csv('anime-list.csv', index_col=[0])"
      ],
      "metadata": {
        "id": "97XvKn9W89Ca"
      },
      "execution_count": 4,
      "outputs": []
    },
    {
      "cell_type": "code",
      "source": [
        "df = df.reset_index()\n"
      ],
      "metadata": {
        "id": "LCsharQWK1NR"
      },
      "execution_count": 5,
      "outputs": []
    },
    {
      "cell_type": "code",
      "source": [
        "df.isnull().sum()"
      ],
      "metadata": {
        "id": "Uy5JB_xf9fHb"
      },
      "execution_count": null,
      "outputs": []
    },
    {
      "cell_type": "markdown",
      "source": [
        "### *Check duplicates*"
      ],
      "metadata": {
        "id": "l9xQ2ZQKNU64"
      }
    },
    {
      "cell_type": "code",
      "source": [
        "df[df.duplicated() == True]"
      ],
      "metadata": {
        "id": "Fqi5c7MUNdaS"
      },
      "execution_count": null,
      "outputs": []
    },
    {
      "cell_type": "markdown",
      "source": [
        "Since we see no rows, that means all rows are unique. We can go ahead with EDA"
      ],
      "metadata": {
        "id": "DE6hOdkrNkg-"
      }
    },
    {
      "cell_type": "code",
      "source": [
        "#use forward/backward fill to replace nan values\n",
        "df.tags.fillna(method = 'ffill', inplace=True)\n",
        "df.source.fillna(method = 'ffill', inplace=True)\n",
        "df.rating.fillna(method = 'ffill', inplace=True)\n",
        "df.year.fillna(method = 'ffill', inplace=True)\n",
        "df.synopsis.fillna(method = 'ffill', inplace=True)\n",
        "df.status.fillna(method = 'ffill', inplace=True)\n",
        "df.eps.fillna(method = 'ffill', inplace=True)\n",
        "df.eps_avg_duration_in_min.fillna(method = 'ffill', inplace=True)"
      ],
      "metadata": {
        "id": "Ec7q3jVK9vqQ"
      },
      "execution_count": 8,
      "outputs": []
    },
    {
      "cell_type": "code",
      "source": [
        "#check\n",
        "df.eps_avg_duration_in_min.unique()"
      ],
      "metadata": {
        "id": "OoTFIqKaBv_Y"
      },
      "execution_count": null,
      "outputs": []
    },
    {
      "cell_type": "code",
      "source": [
        "#df.drop(['Unnamed: 0'], axis=1, inplace = True)\n",
        "#df.set_index(\"name\", inplace = True)\n",
        "#df.rename(cols = {'Unnamed: 0':'Index'})"
      ],
      "metadata": {
        "id": "hYhDMAkuEDrr"
      },
      "execution_count": 10,
      "outputs": []
    },
    {
      "cell_type": "code",
      "source": [
        "df.columns"
      ],
      "metadata": {
        "id": "PNwTtFM2B3eG"
      },
      "execution_count": null,
      "outputs": []
    },
    {
      "cell_type": "code",
      "source": [
        "df.head()"
      ],
      "metadata": {
        "id": "Rh0yJpnvLP4T"
      },
      "execution_count": null,
      "outputs": []
    },
    {
      "cell_type": "code",
      "source": [
        "df.dtypes"
      ],
      "metadata": {
        "id": "LcKhLsM-FAYi"
      },
      "execution_count": null,
      "outputs": []
    },
    {
      "cell_type": "code",
      "source": [
        "#fix datatypes\n",
        "\n",
        "df['name'] = df['name'].astype(str)\n",
        "df['studio'].astype(str)\n",
        "df['theme'].astype(str)\n",
        "df['tags'].astype(str)\n",
        "df['source'].astype(str)\n",
        "df['synopsis'].astype(str)\n",
        "df['demographic'].astype(str)\n",
        "df['status'].astype(str)\n",
        "df['rated_by'].astype(str)"
      ],
      "metadata": {
        "id": "-3N2z3ydFUfF"
      },
      "execution_count": null,
      "outputs": []
    },
    {
      "cell_type": "markdown",
      "source": [
        "### *which anime has the highest rating?*"
      ],
      "metadata": {
        "id": "nRdVd4-sJsyc"
      }
    },
    {
      "cell_type": "code",
      "source": [
        "\n",
        "df.loc[df['rating'].idxmax()]"
      ],
      "metadata": {
        "id": "gBLr_aT8EtgQ"
      },
      "execution_count": null,
      "outputs": []
    },
    {
      "cell_type": "markdown",
      "source": [
        "### *find the highest rated anime in each demographic/theme/studio.*"
      ],
      "metadata": {
        "id": "Mp6pSYMdJyc4"
      }
    },
    {
      "cell_type": "code",
      "source": [
        "temp = df.groupby('demographic')\n"
      ],
      "metadata": {
        "id": "7XGnwfGrKCUg"
      },
      "execution_count": 16,
      "outputs": []
    },
    {
      "cell_type": "markdown",
      "source": [
        "each demographic"
      ],
      "metadata": {
        "id": "J3WC3yf0POcG"
      }
    },
    {
      "cell_type": "code",
      "source": [
        "df.loc[temp[\"rating\"].idxmax()].sort_values(by = ['rating'], ascending=False)"
      ],
      "metadata": {
        "id": "FzRlfsO3Ka0N"
      },
      "execution_count": null,
      "outputs": []
    },
    {
      "cell_type": "markdown",
      "source": [
        "each theme"
      ],
      "metadata": {
        "id": "D-UsBbOyPScK"
      }
    },
    {
      "cell_type": "code",
      "source": [
        "df.loc[df.groupby('theme')[\"rating\"].idxmax()].sort_values(by = ['rating'], ascending=False)"
      ],
      "metadata": {
        "id": "j__CJT6yPV6e"
      },
      "execution_count": null,
      "outputs": []
    },
    {
      "cell_type": "markdown",
      "source": [
        "each studio"
      ],
      "metadata": {
        "id": "ax4i5Z2SPUN4"
      }
    },
    {
      "cell_type": "code",
      "source": [
        "df.loc[df.groupby('studio')[\"rating\"].idxmax()].sort_values(by = ['rating'], ascending=False)"
      ],
      "metadata": {
        "id": "qjBIoxINPX8e"
      },
      "execution_count": null,
      "outputs": []
    },
    {
      "cell_type": "markdown",
      "source": [
        "### *Least liked anime in each studio*"
      ],
      "metadata": {
        "id": "l-N9CC2et-mB"
      }
    },
    {
      "cell_type": "code",
      "source": [
        "df.loc[df.groupby('studio')[\"rating\"].idxmin()].sort_values(by = ['rating'], ascending=False)"
      ],
      "metadata": {
        "id": "7h7ed-yyuCMR"
      },
      "execution_count": null,
      "outputs": []
    },
    {
      "cell_type": "markdown",
      "source": [
        "### *Least liked anime in each demographic*"
      ],
      "metadata": {
        "id": "w84sJeI4uuAx"
      }
    },
    {
      "cell_type": "code",
      "source": [
        "df.loc[df.groupby('demographic')[\"rating\"].idxmin()].sort_values(by = ['rating'], ascending=False)"
      ],
      "metadata": {
        "id": "WS3ZpxywuwAB"
      },
      "execution_count": null,
      "outputs": []
    },
    {
      "cell_type": "markdown",
      "source": [
        "### *Least liked anime in each theme*"
      ],
      "metadata": {
        "id": "8djKw_euuwUE"
      }
    },
    {
      "cell_type": "code",
      "source": [
        "df.loc[df.groupby('theme')[\"rating\"].idxmin()].sort_values(by = ['rating'], ascending=False)"
      ],
      "metadata": {
        "id": "kz0S8K-Uyb-z"
      },
      "execution_count": null,
      "outputs": []
    },
    {
      "cell_type": "code",
      "source": [
        "#what are the 5 most liked animes in a specific year\n",
        "temp = df[df.year ==2022]\n",
        "temp.sort_values(by=['rating'], ascending=False)[:5]\n",
        "#df.loc[temp[\"rating\"].idxmax()].sort_values(by = ['rating'], ascending=False)"
      ],
      "metadata": {
        "id": "dcHvDDjqyly3"
      },
      "execution_count": null,
      "outputs": []
    },
    {
      "cell_type": "code",
      "source": [
        "temp = df[df.year.ge(2000) & df.year.le(2022)].sort_values('rating', ascending=False)\n",
        "temp.head()"
      ],
      "metadata": {
        "id": "scX6bh0D_U4B"
      },
      "execution_count": null,
      "outputs": []
    },
    {
      "cell_type": "markdown",
      "source": [
        "### *what is the min, max, average number of episodes in anime?*"
      ],
      "metadata": {
        "id": "bSWdeP_PJlmw"
      }
    },
    {
      "cell_type": "code",
      "source": [
        "df.eps.aggregate(['average', 'min', 'max'])"
      ],
      "metadata": {
        "id": "_eliVfM-FsUH"
      },
      "execution_count": null,
      "outputs": []
    },
    {
      "cell_type": "code",
      "source": [
        "df.head()"
      ],
      "metadata": {
        "id": "-aCwrLsuKWpg"
      },
      "execution_count": null,
      "outputs": []
    },
    {
      "cell_type": "code",
      "source": [
        "plt.figure(figsize=(25,80))"
      ],
      "metadata": {
        "id": "Gwi3fbN1R2ct"
      },
      "execution_count": null,
      "outputs": []
    },
    {
      "cell_type": "code",
      "source": [
        "sns.barplot(x='name', y = 'rating', palette = 'Accent', data = df[df['demographic'] == 'Shounen'].sort_values('rating', ascending=False).head())\n",
        "plt.show()"
      ],
      "metadata": {
        "colab": {
          "base_uri": "https://localhost:8080/",
          "height": 279
        },
        "id": "ihFBbxTxOA-6",
        "outputId": "e37f01b5-7c39-4164-802a-c82f08a60dd1"
      },
      "execution_count": 34,
      "outputs": [
        {
          "output_type": "display_data",
          "data": {
            "text/plain": [
              "<Figure size 432x288 with 1 Axes>"
            ],
            "image/png": "[encoded data removed]"
          },
          "metadata": {
            "needs_background": "light"
          }
        }
      ]
    },
    {
      "cell_type": "code",
      "source": [
        "sns.scatterplot(x='name', y = 'rating', palette = 'Accent', data = df[df['demographic'] == 'Shounen'][:5])\n",
        "plt.show()"
      ],
      "metadata": {
        "colab": {
          "base_uri": "https://localhost:8080/",
          "height": 279
        },
        "id": "WvCDvZrnQZlo",
        "outputId": "4c858daa-10f4-4bab-e0fd-b89cefea7f83"
      },
      "execution_count": 37,
      "outputs": [
        {
          "output_type": "display_data",
          "data": {
            "text/plain": [
              "<Figure size 432x288 with 1 Axes>"
            ],
            "image/png": "[encoded data removed]"
          },
          "metadata": {
            "needs_background": "light"
          }
        }
      ]
    },
    {
      "cell_type": "code",
      "source": [
        ""
      ],
      "metadata": {
        "id": "IoGDlYh8k5cu"
      },
      "execution_count": null,
      "outputs": []
    }
  ]
}